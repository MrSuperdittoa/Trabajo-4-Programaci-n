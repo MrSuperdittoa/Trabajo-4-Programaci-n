{
 "cells": [
  {
   "cell_type": "code",
   "execution_count": 1,
   "id": "0c6a35f2-3c08-439f-80c1-4b7de0c1585b",
   "metadata": {},
   "outputs": [
    {
     "name": "stdout",
     "output_type": "stream",
     "text": [
      "Random Forest:\n",
      "              precision    recall  f1-score   support\n",
      "\n",
      "         0.0       0.96      1.00      0.98       212\n",
      "         1.0       1.00      0.11      0.20         9\n",
      "\n",
      "    accuracy                           0.96       221\n",
      "   macro avg       0.98      0.56      0.59       221\n",
      "weighted avg       0.97      0.96      0.95       221\n",
      "\n"
     ]
    }
   ],
   "source": [
    "# 04 - modelo 2.ipynb\n",
    "\n",
    "import pandas as pd\n",
    "from sklearn.model_selection import train_test_split, GridSearchCV\n",
    "from sklearn.pipeline import Pipeline\n",
    "from sklearn.ensemble import RandomForestClassifier\n",
    "from sklearn.metrics import classification_report\n",
    "\n",
    "# Cargar el conjunto de datos\n",
    "file_path = 'dataset_02052023.xlsx'\n",
    "df = pd.read_excel(file_path)\n",
    "\n",
    "# Preprocesamiento\n",
    "df.drop(['Timestamp', 'Num'], axis=1, inplace=True, errors='ignore')\n",
    "if df['grip_lost'].dtype == 'object':\n",
    "    df['grip_lost'] = df['grip_lost'].astype(int)\n",
    "df.dropna(subset=['Robot_ProtectiveStop'], inplace=True)\n",
    "df.dropna(inplace=True)\n",
    "df.drop_duplicates(inplace=True)\n",
    "\n",
    "# Dividir los datos en características y variable objetivo\n",
    "X = df.drop('Robot_ProtectiveStop', axis=1)\n",
    "y = df['Robot_ProtectiveStop']\n",
    "\n",
    "# Reducir el tamaño del dataset para pruebas (10% del total)\n",
    "X, _, y, _ = train_test_split(X, y, train_size=0.1, stratify=y, random_state=42)\n",
    "\n",
    "# Dividir los datos en conjunto de entrenamiento y prueba\n",
    "X_train, X_test, y_train, y_test = train_test_split(X, y, test_size=0.3, random_state=42)\n",
    "\n",
    "# Construir un pipeline para el modelo Random Forest\n",
    "rf_pipe = Pipeline([\n",
    "    ('rf', RandomForestClassifier())\n",
    "])\n",
    "\n",
    "# Definir la grilla de hiperparámetros para GridSearchCV\n",
    "param_grid_rf = {\n",
    "    'rf__n_estimators': [100, 200],\n",
    "    'rf__max_depth': [10, 20]\n",
    "}\n",
    "\n",
    "# Realizar búsqueda de hiperparámetros para Random Forest\n",
    "rf_grid = GridSearchCV(rf_pipe, param_grid_rf, cv=3, error_score='raise')\n",
    "rf_grid.fit(X_train, y_train)\n",
    "\n",
    "# Obtener los mejores hiperparámetros y el mejor modelo Random Forest\n",
    "best_params_rf = rf_grid.best_params_\n",
    "best_model_rf = rf_grid.best_estimator_\n",
    "\n",
    "# Evaluar el modelo en el conjunto de prueba\n",
    "y_pred_rf = best_model_rf.predict(X_test)\n",
    "\n",
    "# Imprimir métricas de evaluación\n",
    "print(\"Random Forest:\")\n",
    "print(classification_report(y_test, y_pred_rf))\n"
   ]
  },
  {
   "cell_type": "code",
   "execution_count": null,
   "id": "aae3479e-b174-4f1c-b3aa-efc3fd102779",
   "metadata": {},
   "outputs": [],
   "source": []
  }
 ],
 "metadata": {
  "kernelspec": {
   "display_name": "Python 3 (ipykernel)",
   "language": "python",
   "name": "python3"
  },
  "language_info": {
   "codemirror_mode": {
    "name": "ipython",
    "version": 3
   },
   "file_extension": ".py",
   "mimetype": "text/x-python",
   "name": "python",
   "nbconvert_exporter": "python",
   "pygments_lexer": "ipython3",
   "version": "3.11.7"
  }
 },
 "nbformat": 4,
 "nbformat_minor": 5
}
