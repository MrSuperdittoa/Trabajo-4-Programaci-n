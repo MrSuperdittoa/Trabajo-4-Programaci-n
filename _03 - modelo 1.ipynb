{
 "cells": [
  {
   "cell_type": "code",
   "execution_count": 15,
   "id": "1c7f3987-6864-49af-989c-29bfe15eb12c",
   "metadata": {},
   "outputs": [
    {
     "name": "stdout",
     "output_type": "stream",
     "text": [
      "Support Vector Machine:\n",
      "              precision    recall  f1-score   support\n",
      "\n",
      "         0.0       0.96      1.00      0.98       212\n",
      "         1.0       0.00      0.00      0.00         9\n",
      "\n",
      "    accuracy                           0.96       221\n",
      "   macro avg       0.48      0.50      0.49       221\n",
      "weighted avg       0.92      0.96      0.94       221\n",
      "\n"
     ]
    },
    {
     "name": "stderr",
     "output_type": "stream",
     "text": [
      "D:\\Users\\690-000BLA\\Downloads\\hola\\Lib\\site-packages\\sklearn\\metrics\\_classification.py:1344: UndefinedMetricWarning: Precision and F-score are ill-defined and being set to 0.0 in labels with no predicted samples. Use `zero_division` parameter to control this behavior.\n",
      "  _warn_prf(average, modifier, msg_start, len(result))\n",
      "D:\\Users\\690-000BLA\\Downloads\\hola\\Lib\\site-packages\\sklearn\\metrics\\_classification.py:1344: UndefinedMetricWarning: Precision and F-score are ill-defined and being set to 0.0 in labels with no predicted samples. Use `zero_division` parameter to control this behavior.\n",
      "  _warn_prf(average, modifier, msg_start, len(result))\n",
      "D:\\Users\\690-000BLA\\Downloads\\hola\\Lib\\site-packages\\sklearn\\metrics\\_classification.py:1344: UndefinedMetricWarning: Precision and F-score are ill-defined and being set to 0.0 in labels with no predicted samples. Use `zero_division` parameter to control this behavior.\n",
      "  _warn_prf(average, modifier, msg_start, len(result))\n"
     ]
    }
   ],
   "source": [
    "# 03 - modelo 1.ipynb\n",
    "\n",
    "import pandas as pd\n",
    "from sklearn.model_selection import train_test_split, GridSearchCV\n",
    "from sklearn.preprocessing import StandardScaler\n",
    "from sklearn.pipeline import Pipeline\n",
    "from sklearn.svm import SVC\n",
    "from sklearn.metrics import classification_report\n",
    "\n",
    "# Cargar el conjunto de datos\n",
    "file_path = 'dataset_02052023.xlsx'\n",
    "df = pd.read_excel(file_path)\n",
    "\n",
    "# Preprocesamiento\n",
    "df.drop(['Timestamp', 'Num'], axis=1, inplace=True, errors='ignore')\n",
    "if df['grip_lost'].dtype == 'object':\n",
    "    df['grip_lost'] = df['grip_lost'].astype(int)\n",
    "df.dropna(subset=['Robot_ProtectiveStop'], inplace=True)\n",
    "df.dropna(inplace=True)\n",
    "df.drop_duplicates(inplace=True)\n",
    "\n",
    "# Dividir los datos en características y variable objetivo\n",
    "X = df.drop('Robot_ProtectiveStop', axis=1)\n",
    "y = df['Robot_ProtectiveStop']\n",
    "\n",
    "# Reducir el tamaño del dataset para pruebas (10% del total)\n",
    "X, _, y, _ = train_test_split(X, y, train_size=0.1, stratify=y, random_state=42)\n",
    "\n",
    "# Dividir los datos en conjunto de entrenamiento y prueba\n",
    "X_train, X_test, y_train, y_test = train_test_split(X, y, test_size=0.3, random_state=42)\n",
    "\n",
    "# Construir un pipeline para el modelo SVM\n",
    "svm_pipe = Pipeline([\n",
    "    ('scaler', StandardScaler()),\n",
    "    ('svm', SVC())\n",
    "])\n",
    "\n",
    "# Definir la grilla de hiperparámetros para GridSearchCV\n",
    "param_grid_svm = {\n",
    "    'svm__C': [0.1, 1, 10],\n",
    "    'svm__gamma': [0.1, 0.01, 0.001]\n",
    "}\n",
    "\n",
    "# Realizar búsqueda de hiperparámetros para SVM\n",
    "svm_grid = GridSearchCV(svm_pipe, param_grid_svm, cv=3, error_score='raise')\n",
    "svm_grid.fit(X_train, y_train)\n",
    "\n",
    "# Obtener los mejores hiperparámetros y el mejor modelo SVM\n",
    "best_params_svm = svm_grid.best_params_\n",
    "best_model_svm = svm_grid.best_estimator_\n",
    "\n",
    "# Evaluar el modelo en el conjunto de prueba\n",
    "y_pred_svm = best_model_svm.predict(X_test)\n",
    "\n",
    "# Imprimir métricas de evaluación\n",
    "print(\"Support Vector Machine:\")\n",
    "print(classification_report(y_test, y_pred_svm))\n",
    "\n",
    "\n",
    "\n"
   ]
  },
  {
   "cell_type": "code",
   "execution_count": null,
   "id": "89cdfbe5-01f9-4a75-b80d-377320d19e75",
   "metadata": {},
   "outputs": [],
   "source": []
  }
 ],
 "metadata": {
  "kernelspec": {
   "display_name": "Python 3 (ipykernel)",
   "language": "python",
   "name": "python3"
  },
  "language_info": {
   "codemirror_mode": {
    "name": "ipython",
    "version": 3
   },
   "file_extension": ".py",
   "mimetype": "text/x-python",
   "name": "python",
   "nbconvert_exporter": "python",
   "pygments_lexer": "ipython3",
   "version": "3.11.7"
  }
 },
 "nbformat": 4,
 "nbformat_minor": 5
}
